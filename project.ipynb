{
 "cells": [
  {
   "cell_type": "markdown",
   "id": "02daf32e-fdb9-466e-9123-627a02e6be8d",
   "metadata": {},
   "source": [
    "You are building an e-commerce application. Define variables to store the product name, product price, quantity purchased, and whether the product is available in stock or not. What are the suitable data types for each?"
   ]
  },
  {
   "cell_type": "code",
   "execution_count": 7,
   "id": "32a34fd5-35d6-437a-bd88-591f1d7d124b",
   "metadata": {},
   "outputs": [
    {
     "name": "stdin",
     "output_type": "stream",
     "text": [
      "Enter the name of the product potato\n"
     ]
    },
    {
     "name": "stdout",
     "output_type": "stream",
     "text": [
      "<class 'str'>\n"
     ]
    },
    {
     "name": "stdin",
     "output_type": "stream",
     "text": [
      "Enter the price of the product 40\n"
     ]
    },
    {
     "name": "stdout",
     "output_type": "stream",
     "text": [
      "<class 'int'>\n"
     ]
    },
    {
     "name": "stdin",
     "output_type": "stream",
     "text": [
      "Enter the quantity of the product 0\n"
     ]
    },
    {
     "name": "stdout",
     "output_type": "stream",
     "text": [
      "<class 'int'>\n",
      "The product is not available in the stock\n"
     ]
    }
   ],
   "source": [
    "Product_Name=input(\"Enter the name of the product\")\n",
    "print(type(Product_Name))\n",
    "Product_Price=int(input(\"Enter the price of the product\"))\n",
    "print(type(Product_Price))\n",
    "Quantity_purchased=int(input(\"Enter the quantity of the product\"))\n",
    "print(type(Quantity_purchased))\n",
    "if Quantity_purchased>0:\n",
    "    print(\"The product is available in the stock\")\n",
    "else:\n",
    "    print(\"The product is not available in the stock\")"
   ]
  },
  {
   "cell_type": "markdown",
   "id": "e0cc437f-714c-4cd0-a64d-0698f98381df",
   "metadata": {},
   "source": [
    "Create a small Python program that calculates the total bill amount (if greater than 50) after applying a 10% discount on a restaurant bill."
   ]
  },
  {
   "cell_type": "code",
   "execution_count": 21,
   "id": "b2039971-92a0-4824-bd06-1dba922ce4e4",
   "metadata": {},
   "outputs": [
    {
     "name": "stdin",
     "output_type": "stream",
     "text": [
      "Enter the bill amount 100\n"
     ]
    },
    {
     "name": "stdout",
     "output_type": "stream",
     "text": [
      "the total bill in dollars is: 90.0\n"
     ]
    }
   ],
   "source": [
    "total_bill=int(input(\"Enter the bill amount\"))\n",
    "if total_bill>50:\n",
    "    final_bill=round(total_bill*0.90,2)\n",
    "    print(f\"the total bill in dollars is: {final_bill}\")\n",
    "else:\n",
    "    print(f\"the final bill is {total_bill}\")\n",
    "    \n",
    "\n"
   ]
  },
  {
   "cell_type": "markdown",
   "id": "f31c7cb0-8541-4f06-a4e8-c02bd350ad9e",
   "metadata": {},
   "source": [
    "A user inputs their age and country. Write a condition to check if the user is eligible to vote (age >= 18 and country == \"India\"). Return True if eligible, otherwise False."
   ]
  },
  {
   "cell_type": "code",
   "execution_count": 29,
   "id": "d74f035d-31ce-40f1-aa61-e32855f47dc9",
   "metadata": {},
   "outputs": [
    {
     "name": "stdin",
     "output_type": "stream",
     "text": [
      "Enter the age 2\n",
      "Enter the country India\n"
     ]
    },
    {
     "name": "stdout",
     "output_type": "stream",
     "text": [
      "Not eligible to vote\n"
     ]
    }
   ],
   "source": [
    "user_age=int(input(\"Enter the age\"))\n",
    "user_country=input(\"Enter the country\")\n",
    "if user_age>=18 and user_country==\"India\":\n",
    "    print(\"Eligible to vote\")\n",
    "else:\n",
    "    print(\"Not eligible to vote\")"
   ]
  },
  {
   "cell_type": "markdown",
   "id": "b244a37f-0d16-494c-a0d9-21ba2614eae0",
   "metadata": {},
   "source": [
    "Suppose you are creating a points system for a fitness app. Each time a user completes a workout, they earn 20 points. Update their total points using assignment operators."
   ]
  },
  {
   "cell_type": "code",
   "execution_count": 31,
   "id": "15e2c849-ec38-431d-a0ce-36b68be1d1bc",
   "metadata": {},
   "outputs": [
    {
     "name": "stdout",
     "output_type": "stream",
     "text": [
      "Total points after workout: 20\n"
     ]
    }
   ],
   "source": [
    "total_points = 0\n",
    "workout_points = 20\n",
    "total_points += workout_points  \n",
    "print(f\"Total points after workout: {total_points}\")"
   ]
  },
  {
   "cell_type": "markdown",
   "id": "26835148-be20-4088-a978-6eef61cbb235",
   "metadata": {},
   "source": [
    "In an event management system, you have a list of guest names. Some guests' names are repeated. Remove duplicates and store the unique guest names using a suitable data structure, and display them alphabetically."
   ]
  },
  {
   "cell_type": "code",
   "execution_count": 33,
   "id": "2e327d2a-4780-4d6c-b139-ca0e26b7c912",
   "metadata": {},
   "outputs": [
    {
     "name": "stdout",
     "output_type": "stream",
     "text": [
      "Unique guest names in alphabetical order:\n",
      "Alice\n",
      "Bob\n",
      "Charlie\n",
      "David\n",
      "Eve\n"
     ]
    }
   ],
   "source": [
    "guest_list = [\"Alice\", \"Bob\", \"Charlie\", \"Alice\", \"David\", \"Bob\", \"Eve\"]\n",
    "unique_guests = set(guest_list)\n",
    "sorted_unique_guests = sorted(unique_guests)\n",
    "print(\"Unique guest names in alphabetical order:\")\n",
    "for guest in sorted_unique_guests:\n",
    "    print(guest)"
   ]
  },
  {
   "cell_type": "code",
   "execution_count": null,
   "id": "f4256f6f-f360-445a-bc10-a9722942f434",
   "metadata": {},
   "outputs": [],
   "source": []
  },
  {
   "cell_type": "code",
   "execution_count": null,
   "id": "d6a2d09b-8cd6-4c4e-af85-c222907608d6",
   "metadata": {},
   "outputs": [],
   "source": []
  }
 ],
 "metadata": {
  "kernelspec": {
   "display_name": "Python [conda env:base] *",
   "language": "python",
   "name": "conda-base-py"
  },
  "language_info": {
   "codemirror_mode": {
    "name": "ipython",
    "version": 3
   },
   "file_extension": ".py",
   "mimetype": "text/x-python",
   "name": "python",
   "nbconvert_exporter": "python",
   "pygments_lexer": "ipython3",
   "version": "3.12.7"
  }
 },
 "nbformat": 4,
 "nbformat_minor": 5
}
